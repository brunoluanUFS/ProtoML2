{
 "cells": [
  {
   "cell_type": "code",
   "execution_count": 2,
   "metadata": {},
   "outputs": [],
   "source": [
    "import pandas as pd"
   ]
  },
  {
   "cell_type": "code",
   "execution_count": 3,
   "metadata": {},
   "outputs": [],
   "source": [
    "import numpy as np"
   ]
  },
  {
   "cell_type": "code",
   "execution_count": 4,
   "metadata": {},
   "outputs": [],
   "source": [
    "df = pd.read_csv(\"dataset.csv\")"
   ]
  },
  {
   "cell_type": "code",
   "execution_count": 8,
   "metadata": {},
   "outputs": [],
   "source": [
    "target = \"class\""
   ]
  },
  {
   "cell_type": "code",
   "execution_count": 9,
   "metadata": {},
   "outputs": [],
   "source": [
    "X = df.loc[:, df.columns != target]\n",
    "y = df.loc[:, df.columns == target]"
   ]
  },
  {
   "cell_type": "code",
   "execution_count": 155,
   "metadata": {},
   "outputs": [],
   "source": [
    "lista = [5,3.3,1.5,0.2]"
   ]
  },
  {
   "cell_type": "code",
   "execution_count": 20,
   "metadata": {},
   "outputs": [
    {
     "name": "stdout",
     "output_type": "stream",
     "text": [
      "         Preco  Quartos  Area  TaxaCond  VagasGaragem\n",
      "0      35000.0      2.0   NaN       NaN           2.0\n",
      "1     105000.0      2.0  60.0       NaN           1.0\n",
      "2     330000.0      3.0  94.0     400.0           NaN\n",
      "3     120029.0      2.0  58.0       0.0           1.0\n",
      "4     141037.0      3.0  59.0       0.0           1.0\n",
      "...        ...      ...   ...       ...           ...\n",
      "8936  124000.0      2.0   NaN       NaN           1.0\n",
      "8937   38000.0      3.0  62.0       NaN           1.0\n",
      "8938  220000.0      4.0   0.0       NaN           NaN\n",
      "8939   45000.0      2.0   0.0       NaN           NaN\n",
      "8940   75000.0      3.0  30.0       0.0           1.0\n",
      "\n",
      "[8941 rows x 5 columns]\n"
     ]
    }
   ],
   "source": [
    "df = pd.read_csv(\"dataset.csv\")\n",
    "df_numeric = df._get_numeric_data()\n",
    "print(df_numeric)\n"
   ]
  },
  {
   "cell_type": "code",
   "execution_count": 21,
   "metadata": {},
   "outputs": [
    {
     "name": "stdout",
     "output_type": "stream",
     "text": [
      "         Preco  Quartos  Area  TaxaCond  VagasGaragem  Quartos_mean  \\\n",
      "0      35000.0      2.0  58.0     180.0           2.0           2.0   \n",
      "1     105000.0      2.0  60.0     180.0           1.0           2.0   \n",
      "2     330000.0      3.0  94.0     400.0           1.0           3.0   \n",
      "3     120029.0      2.0  58.0       0.0           1.0           2.0   \n",
      "4     141037.0      3.0  59.0       0.0           1.0           3.0   \n",
      "...        ...      ...   ...       ...           ...           ...   \n",
      "8936  124000.0      2.0  58.0     180.0           1.0           2.0   \n",
      "8937   38000.0      3.0  62.0     180.0           1.0           3.0   \n",
      "8938  220000.0      4.0   0.0     180.0           1.0           4.0   \n",
      "8939   45000.0      2.0   0.0     180.0           1.0           2.0   \n",
      "8940   75000.0      3.0  30.0       0.0           1.0           3.0   \n",
      "\n",
      "       Area_mean  TaxaCond_mean  VagasGaragem_mean  \n",
      "0     668.763002   27495.835454           2.000000  \n",
      "1      60.000000   27495.835454           1.000000  \n",
      "2      94.000000     400.000000           1.225412  \n",
      "3      58.000000       0.000000           1.000000  \n",
      "4      59.000000       0.000000           1.000000  \n",
      "...          ...            ...                ...  \n",
      "8936  668.763002   27495.835454           1.000000  \n",
      "8937   62.000000   27495.835454           1.000000  \n",
      "8938    0.000000   27495.835454           1.225412  \n",
      "8939    0.000000   27495.835454           1.225412  \n",
      "8940   30.000000       0.000000           1.000000  \n",
      "\n",
      "[8941 rows x 9 columns]\n"
     ]
    }
   ],
   "source": [
    "for col in df_numeric.columns:\n",
    "    if df_numeric[col].isnull().sum() > 0:\n",
    "        df_numeric[str(col) + '_mean'] = df_numeric[col].fillna(df_numeric[col].mean()) \n",
    "        df_numeric[str(col)] = df_numeric[col].fillna(df_numeric[col].median())\n",
    "print(df_numeric)"
   ]
  },
  {
   "cell_type": "code",
   "execution_count": 24,
   "metadata": {},
   "outputs": [],
   "source": [
    "cols = df.columns\n",
    "from sklearn.impute import SimpleImputer\n",
    "imp = SimpleImputer(strategy='most_frequent')\n",
    "df = pd.DataFrame(imp.fit_transform(df), columns=cols)\n"
   ]
  },
  {
   "cell_type": "code",
   "execution_count": 26,
   "metadata": {},
   "outputs": [],
   "source": [
    "from sklearn.preprocessing import LabelEncoder\n",
    "le = LabelEncoder()\n",
    "df = df.apply(LabelEncoder().fit_transform)"
   ]
  },
  {
   "cell_type": "code",
   "execution_count": 27,
   "metadata": {},
   "outputs": [
    {
     "data": {
      "text/html": [
       "<div>\n",
       "<style scoped>\n",
       "    .dataframe tbody tr th:only-of-type {\n",
       "        vertical-align: middle;\n",
       "    }\n",
       "\n",
       "    .dataframe tbody tr th {\n",
       "        vertical-align: top;\n",
       "    }\n",
       "\n",
       "    .dataframe thead th {\n",
       "        text-align: right;\n",
       "    }\n",
       "</style>\n",
       "<table border=\"1\" class=\"dataframe\">\n",
       "  <thead>\n",
       "    <tr style=\"text-align: right;\">\n",
       "      <th></th>\n",
       "      <th>Anuncio</th>\n",
       "      <th>Preco</th>\n",
       "      <th>Data</th>\n",
       "      <th>Hora</th>\n",
       "      <th>Link</th>\n",
       "      <th>Localidade</th>\n",
       "      <th>Quartos</th>\n",
       "      <th>Area</th>\n",
       "      <th>TaxaCond</th>\n",
       "      <th>VagasGaragem</th>\n",
       "    </tr>\n",
       "  </thead>\n",
       "  <tbody>\n",
       "    <tr>\n",
       "      <th>0</th>\n",
       "      <td>1689</td>\n",
       "      <td>130</td>\n",
       "      <td>41</td>\n",
       "      <td>769</td>\n",
       "      <td>3042</td>\n",
       "      <td>1</td>\n",
       "      <td>1</td>\n",
       "      <td>56</td>\n",
       "      <td>37</td>\n",
       "      <td>1</td>\n",
       "    </tr>\n",
       "    <tr>\n",
       "      <th>1</th>\n",
       "      <td>291</td>\n",
       "      <td>707</td>\n",
       "      <td>41</td>\n",
       "      <td>769</td>\n",
       "      <td>7030</td>\n",
       "      <td>6</td>\n",
       "      <td>1</td>\n",
       "      <td>58</td>\n",
       "      <td>37</td>\n",
       "      <td>0</td>\n",
       "    </tr>\n",
       "    <tr>\n",
       "      <th>2</th>\n",
       "      <td>787</td>\n",
       "      <td>2137</td>\n",
       "      <td>41</td>\n",
       "      <td>767</td>\n",
       "      <td>1321</td>\n",
       "      <td>6</td>\n",
       "      <td>2</td>\n",
       "      <td>90</td>\n",
       "      <td>126</td>\n",
       "      <td>0</td>\n",
       "    </tr>\n",
       "    <tr>\n",
       "      <th>3</th>\n",
       "      <td>20</td>\n",
       "      <td>1252</td>\n",
       "      <td>41</td>\n",
       "      <td>762</td>\n",
       "      <td>1595</td>\n",
       "      <td>67</td>\n",
       "      <td>1</td>\n",
       "      <td>56</td>\n",
       "      <td>0</td>\n",
       "      <td>0</td>\n",
       "    </tr>\n",
       "    <tr>\n",
       "      <th>4</th>\n",
       "      <td>176</td>\n",
       "      <td>1585</td>\n",
       "      <td>41</td>\n",
       "      <td>761</td>\n",
       "      <td>6767</td>\n",
       "      <td>96</td>\n",
       "      <td>2</td>\n",
       "      <td>57</td>\n",
       "      <td>0</td>\n",
       "      <td>0</td>\n",
       "    </tr>\n",
       "    <tr>\n",
       "      <th>...</th>\n",
       "      <td>...</td>\n",
       "      <td>...</td>\n",
       "      <td>...</td>\n",
       "      <td>...</td>\n",
       "      <td>...</td>\n",
       "      <td>...</td>\n",
       "      <td>...</td>\n",
       "      <td>...</td>\n",
       "      <td>...</td>\n",
       "      <td>...</td>\n",
       "    </tr>\n",
       "    <tr>\n",
       "      <th>8936</th>\n",
       "      <td>3326</td>\n",
       "      <td>1310</td>\n",
       "      <td>3</td>\n",
       "      <td>645</td>\n",
       "      <td>5865</td>\n",
       "      <td>67</td>\n",
       "      <td>1</td>\n",
       "      <td>56</td>\n",
       "      <td>37</td>\n",
       "      <td>0</td>\n",
       "    </tr>\n",
       "    <tr>\n",
       "      <th>8937</th>\n",
       "      <td>2610</td>\n",
       "      <td>145</td>\n",
       "      <td>63</td>\n",
       "      <td>617</td>\n",
       "      <td>4688</td>\n",
       "      <td>96</td>\n",
       "      <td>2</td>\n",
       "      <td>60</td>\n",
       "      <td>37</td>\n",
       "      <td>0</td>\n",
       "    </tr>\n",
       "    <tr>\n",
       "      <th>8938</th>\n",
       "      <td>5375</td>\n",
       "      <td>1992</td>\n",
       "      <td>61</td>\n",
       "      <td>276</td>\n",
       "      <td>4184</td>\n",
       "      <td>67</td>\n",
       "      <td>3</td>\n",
       "      <td>0</td>\n",
       "      <td>37</td>\n",
       "      <td>0</td>\n",
       "    </tr>\n",
       "    <tr>\n",
       "      <th>8939</th>\n",
       "      <td>4225</td>\n",
       "      <td>202</td>\n",
       "      <td>39</td>\n",
       "      <td>496</td>\n",
       "      <td>8586</td>\n",
       "      <td>67</td>\n",
       "      <td>1</td>\n",
       "      <td>0</td>\n",
       "      <td>37</td>\n",
       "      <td>0</td>\n",
       "    </tr>\n",
       "    <tr>\n",
       "      <th>8940</th>\n",
       "      <td>4326</td>\n",
       "      <td>382</td>\n",
       "      <td>33</td>\n",
       "      <td>139</td>\n",
       "      <td>7544</td>\n",
       "      <td>104</td>\n",
       "      <td>2</td>\n",
       "      <td>29</td>\n",
       "      <td>0</td>\n",
       "      <td>0</td>\n",
       "    </tr>\n",
       "  </tbody>\n",
       "</table>\n",
       "<p>8941 rows × 10 columns</p>\n",
       "</div>"
      ],
      "text/plain": [
       "      Anuncio  Preco  Data  Hora  Link  Localidade  Quartos  Area  TaxaCond  \\\n",
       "0        1689    130    41   769  3042           1        1    56        37   \n",
       "1         291    707    41   769  7030           6        1    58        37   \n",
       "2         787   2137    41   767  1321           6        2    90       126   \n",
       "3          20   1252    41   762  1595          67        1    56         0   \n",
       "4         176   1585    41   761  6767          96        2    57         0   \n",
       "...       ...    ...   ...   ...   ...         ...      ...   ...       ...   \n",
       "8936     3326   1310     3   645  5865          67        1    56        37   \n",
       "8937     2610    145    63   617  4688          96        2    60        37   \n",
       "8938     5375   1992    61   276  4184          67        3     0        37   \n",
       "8939     4225    202    39   496  8586          67        1     0        37   \n",
       "8940     4326    382    33   139  7544         104        2    29         0   \n",
       "\n",
       "      VagasGaragem  \n",
       "0                1  \n",
       "1                0  \n",
       "2                0  \n",
       "3                0  \n",
       "4                0  \n",
       "...            ...  \n",
       "8936             0  \n",
       "8937             0  \n",
       "8938             0  \n",
       "8939             0  \n",
       "8940             0  \n",
       "\n",
       "[8941 rows x 10 columns]"
      ]
     },
     "execution_count": 27,
     "metadata": {},
     "output_type": "execute_result"
    }
   ],
   "source": [
    "df"
   ]
  },
  {
   "cell_type": "code",
   "execution_count": 30,
   "metadata": {},
   "outputs": [],
   "source": [
    "df = pd.read_csv(\"dataset.csv\")\n",
    "cols = df.columns\n",
    "num_cols = df._get_numeric_data().columns\n",
    "cat_cols = list(set(cols) - set(num_cols))"
   ]
  },
  {
   "cell_type": "code",
   "execution_count": 31,
   "metadata": {},
   "outputs": [
    {
     "ename": "NameError",
     "evalue": "name 'df_temp' is not defined",
     "output_type": "error",
     "traceback": [
      "\u001b[1;31m---------------------------------------------------------------------------\u001b[0m",
      "\u001b[1;31mNameError\u001b[0m                                 Traceback (most recent call last)",
      "\u001b[1;32m<ipython-input-31-08ee21e594db>\u001b[0m in \u001b[0;36m<module>\u001b[1;34m\u001b[0m\n\u001b[0;32m      1\u001b[0m \u001b[1;32mfrom\u001b[0m \u001b[0msklearn\u001b[0m\u001b[1;33m.\u001b[0m\u001b[0mpreprocessing\u001b[0m \u001b[1;32mimport\u001b[0m \u001b[0mLabelEncoder\u001b[0m\u001b[1;33m\u001b[0m\u001b[1;33m\u001b[0m\u001b[0m\n\u001b[0;32m      2\u001b[0m \u001b[0mle\u001b[0m \u001b[1;33m=\u001b[0m \u001b[0mLabelEncoder\u001b[0m\u001b[1;33m(\u001b[0m\u001b[1;33m)\u001b[0m\u001b[1;33m\u001b[0m\u001b[1;33m\u001b[0m\u001b[0m\n\u001b[1;32m----> 3\u001b[1;33m \u001b[0mdf_le\u001b[0m \u001b[1;33m=\u001b[0m \u001b[0mdf_temp\u001b[0m\u001b[1;33m.\u001b[0m\u001b[0mapply\u001b[0m\u001b[1;33m(\u001b[0m\u001b[0mLabelEncoder\u001b[0m\u001b[1;33m(\u001b[0m\u001b[1;33m)\u001b[0m\u001b[1;33m.\u001b[0m\u001b[0mfit_transform\u001b[0m\u001b[1;33m)\u001b[0m\u001b[1;33m\u001b[0m\u001b[1;33m\u001b[0m\u001b[0m\n\u001b[0m",
      "\u001b[1;31mNameError\u001b[0m: name 'df_temp' is not defined"
     ]
    }
   ],
   "source": [
    "from sklearn.preprocessing import LabelEncoder\n",
    "le = LabelEncoder()\n",
    "df_le = df_temp.apply(LabelEncoder().fit_transform)"
   ]
  },
  {
   "cell_type": "code",
   "execution_count": 32,
   "metadata": {},
   "outputs": [
    {
     "name": "stdout",
     "output_type": "stream",
     "text": [
      "^C\n"
     ]
    }
   ],
   "source": [
    "from mlbox.preprocessing import *"
   ]
  },
  {
   "cell_type": "code",
   "execution_count": null,
   "metadata": {},
   "outputs": [],
   "source": [
    "rd = Reader(sep = “,”)\n",
    "df = rd.train_test_split(\"dataset.csv\", \"Preco\") ### ATENCAO"
   ]
  }
 ],
 "metadata": {
  "interpreter": {
   "hash": "b3ba2566441a7c06988d0923437866b63cedc61552a5af99d1f4fb67d367b25f"
  },
  "kernelspec": {
   "display_name": "Python 3.8.3 64-bit ('base': conda)",
   "name": "python3"
  },
  "language_info": {
   "codemirror_mode": {
    "name": "ipython",
    "version": 3
   },
   "file_extension": ".py",
   "mimetype": "text/x-python",
   "name": "python",
   "nbconvert_exporter": "python",
   "pygments_lexer": "ipython3",
   "version": "3.8.3"
  },
  "orig_nbformat": 4
 },
 "nbformat": 4,
 "nbformat_minor": 2
}
